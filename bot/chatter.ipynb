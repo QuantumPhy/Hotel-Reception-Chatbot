{
 "cells": [
  {
   "cell_type": "code",
   "execution_count": 1,
   "metadata": {
    "scrolled": true
   },
   "outputs": [
    {
     "name": "stdout",
     "output_type": "stream",
     "text": [
      "ai.yml Training: [####################] 100%\n",
      "botprofile.yml Training: [####################] 100%\n",
      "computers.yml Training: [####################] 100%\n",
      "conversations.yml Training: [####################] 100%\n",
      "emotion.yml Training: [####################] 100%\n",
      "food.yml Training: [####################] 100%\n",
      "gossip.yml Training: [####################] 100%\n",
      "greetings.yml Training: [####################] 100%\n",
      "history.yml Training: [####################] 100%\n",
      "humor.yml Training: [####################] 100%\n",
      "literature.yml Training: [####################] 100%\n",
      "money.yml Training: [####################] 100%\n",
      "movies.yml Training: [####################] 100%\n",
      "politics.yml Training: [####################] 100%\n",
      "psychology.yml Training: [####################] 100%\n",
      "science.yml Training: [####################] 100%\n",
      "sports.yml Training: [####################] 100%\n",
      "trivia.yml Training: [####################] 100%\n"
     ]
    }
   ],
   "source": [
    "from chatterbot import ChatBot\n",
    "\n",
    "chatbot = ChatBot(\n",
    "    'Ron Obvious',\n",
    "    trainer='chatterbot.trainers.ChatterBotCorpusTrainer'\n",
    ")\n",
    "\n",
    "# Train based on the english corpus\n",
    "chatbot.train(\"chatterbot.corpus.english\")"
   ]
  },
  {
   "cell_type": "code",
   "execution_count": 4,
   "metadata": {},
   "outputs": [
    {
     "data": {
      "text/plain": [
       "<Statement text:I am still young by your standards.>"
      ]
     },
     "execution_count": 4,
     "metadata": {},
     "output_type": "execute_result"
    }
   ],
   "source": [
    "chatbot.get_response(\"What is your name?\")"
   ]
  },
  {
   "cell_type": "code",
   "execution_count": null,
   "metadata": {
    "collapsed": true
   },
   "outputs": [],
   "source": []
  }
 ],
 "metadata": {
  "kernelspec": {
   "display_name": "Python 3",
   "language": "python",
   "name": "python3"
  },
  "language_info": {
   "codemirror_mode": {
    "name": "ipython",
    "version": 3
   },
   "file_extension": ".py",
   "mimetype": "text/x-python",
   "name": "python",
   "nbconvert_exporter": "python",
   "pygments_lexer": "ipython3",
   "version": "3.6.3"
  }
 },
 "nbformat": 4,
 "nbformat_minor": 2
}
